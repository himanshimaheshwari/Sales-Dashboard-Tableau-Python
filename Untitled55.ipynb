{
  "nbformat": 4,
  "nbformat_minor": 0,
  "metadata": {
    "colab": {
      "provenance": []
    },
    "kernelspec": {
      "name": "python3",
      "display_name": "Python 3"
    },
    "language_info": {
      "name": "python"
    }
  },
  "cells": [
    {
      "cell_type": "code",
      "execution_count": 1,
      "metadata": {
        "id": "lR9hwhHKOame"
      },
      "outputs": [],
      "source": [
        "import pandas as pd\n",
        "import random\n",
        "from datetime import datetime, timedelta\n",
        "\n",
        "# Define the number of rows and columns\n",
        "num_rows = 10000\n",
        "num_cols = 19\n",
        "\n",
        "# Generate the random dataset\n",
        "data = []\n",
        "start_date = datetime(2023, 1, 1)\n",
        "end_date = start_date + timedelta(days=364)  # Assuming a 365-day financial year\n",
        "date_range = pd.date_range(start=start_date, end=end_date).tolist()  # Convert date_range to a list\n",
        "\n",
        "for _ in range(num_rows):\n",
        "    transaction_id = random.randint(100000, 999999)\n",
        "    date = random.choice(date_range)  # Select a random date from the date_range list\n",
        "    product_category = random.choice(['Electronics', 'Fashion', 'Home & Kitchen', 'Beauty'])\n",
        "\n",
        "    if product_category == 'Electronics':\n",
        "        product_subcategory = random.choice(['Mobiles', 'Laptops', 'TVs', 'Audio Player'])\n",
        "    elif product_category == 'Fashion':\n",
        "        product_subcategory = random.choice(['Clothing', 'Shoes', 'Accessories'])\n",
        "    elif product_category == 'Home & Kitchen':\n",
        "        product_subcategory = random.choice(['Appliances', 'Furniture', 'Decor', 'Cookware'])\n",
        "    else:\n",
        "        product_subcategory = random.choice(['Skincare', 'Makeup', 'Haircare', 'Fragrances'])\n",
        "\n",
        "    quantity = random.randint(1, 5)\n",
        "    price_per_unit = round(random.uniform(5000, 50000), 2)\n",
        "    total_sales = round(quantity * price_per_unit, 2)\n",
        "    cost_of_goods_sold = round(total_sales * random.uniform(0.6, 0.8), 2)\n",
        "    marketing_expense = round(total_sales * random.uniform(0.05, 0.1), 2)\n",
        "    shipping_expense = round(quantity * random.uniform(50, 500), 2)\n",
        "    discount_applied = random.choice(['5%', '10%', '15%', 'No Discount'])\n",
        "    customer_id = random.randint(1001, 9999)\n",
        "    region = random.choice(['Punjab', 'Himachal Pradesh', 'Haryana', 'Uttarakhand', 'Madhya Pradesh', 'Maharastra','Gujrat'])  # Modify regions as per your requirement\n",
        "    profit = round(total_sales - cost_of_goods_sold - marketing_expense - shipping_expense, 2)\n",
        "    tax = round(total_sales * random.uniform(0.05, 0.15), 2)\n",
        "    payment_method = random.choice(['Credit Card', 'Debit Card', 'Cash', 'UPI'])\n",
        "    day_of_week = date.strftime('%A')\n",
        "    month = date.strftime('%B')\n",
        "    quarter = 'Q' + str((date.month - 1) // 3 + 1)\n",
        "    customer_segment = random.choice(['High-Value', 'Mid-Value', 'Low-Value'])\n",
        "    sales_channel = random.choice(['Online', 'Offline', 'Retail Store'])\n",
        "    product_rating = round(random.uniform(1.0, 5.0), 2)\n",
        "\n",
        "    data.append([\n",
        "        transaction_id, date, product_category, product_subcategory, quantity, price_per_unit, total_sales,\n",
        "        cost_of_goods_sold, marketing_expense, shipping_expense, discount_applied,\n",
        "        customer_id, region, profit, tax, payment_method, day_of_week, month, quarter, customer_segment,\n",
        "        sales_channel, product_rating\n",
        "    ])\n",
        "\n",
        "# Create a pandas DataFrame from the generated data\n",
        "columns = [\n",
        "    'Transaction ID', 'Date', 'Product Category', 'Product Subcategory', 'Quantity', 'Price per Unit', 'Total Sales',\n",
        "    'Cost of Goods Sold', 'Marketing Expense', 'Shipping Expense', 'Discount Applied',\n",
        "    'Customer ID', 'Region', 'Profit', 'Tax', 'Payment Method', 'Day of Week', 'Month', 'Quarter',\n",
        "    'Customer Segment', 'Sales Channel', 'Product Rating'\n",
        "]\n",
        "df = pd.DataFrame(data, columns=columns)\n",
        "\n",
        "# Save the DataFrame to a CSV file\n",
        "df.to_csv('sales_dataset.csv', index=False)"
      ]
    }
  ]
}